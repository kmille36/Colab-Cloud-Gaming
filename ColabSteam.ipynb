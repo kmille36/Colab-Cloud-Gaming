{
  "nbformat": 4,
  "nbformat_minor": 0,
  "metadata": {
    "colab": {
      "provenance": [],
      "gpuType": "T4",
      "authorship_tag": "ABX9TyNc35OGoDZfyaOINo7+dyDo"
    },
    "kernelspec": {
      "name": "python3",
      "display_name": "Python 3"
    },
    "language_info": {
      "name": "python"
    },
    "accelerator": "GPU"
  },
  "cells": [
    {
      "cell_type": "code",
      "execution_count": null,
      "metadata": {
        "id": "ZJ-xV2q10ysk"
      },
      "outputs": [],
      "source": [
        "\n",
        "#@title 🖥️ Colab Cloud Game Mode by NT.Hai { display-mode: \"form\" }\n",
        "Mount_Google_Drive = False #@param {type:\"boolean\"}\n",
        "(from google.colab import drive; drive.mount('/content/drive')) if Mount_Google_Drive else None; print(\"✅ Drive mounted.\" if Mount_Google_Drive else \"⛔ Skipped mount\"); !wget -q https://github.com/kmille36/Colab-Cloud-Gaming/raw/refs/heads/main/ColabSteam && chmod +x ColabSteam && ./ColabSteam"
      ]
    }
  ]
}